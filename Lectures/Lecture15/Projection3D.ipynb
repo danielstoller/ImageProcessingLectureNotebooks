{
 "cells": [
  {
   "cell_type": "markdown",
   "metadata": {},
   "source": [
    "https://www.makeuseof.com/python-hand-tracking-opencv/"
   ]
  },
  {
   "cell_type": "code",
   "execution_count": 2,
   "metadata": {},
   "outputs": [],
   "source": [
    "import numpy as np\n",
    "import os\n",
    "import cv2\n",
    "import matplotlib.pyplot as plt"
   ]
  },
  {
   "cell_type": "code",
   "execution_count": 7,
   "metadata": {},
   "outputs": [],
   "source": [
    "# Read the previously saved calibration data\n",
    "filename = os.path.relpath('../../CameraCalibration/Calibration');\n",
    "\n",
    "data = np.load(filename +\"_camera.npz\")\n",
    "mtx = data['mtx']\n",
    "dist = data['dist']"
   ]
  },
  {
   "cell_type": "code",
   "execution_count": 87,
   "metadata": {},
   "outputs": [],
   "source": [
    "\n",
    "def add_hologram_effect(image, hologram,corners,alpha=0.5):\n",
    "    \"\"\"Adds a hologram effect to an image.\"\"\"\n",
    "\n",
    "    hologram=map_image_to_rectangle(hologram,corners,image.shape) \n",
    "\n",
    "    # Create a shimmering effect for the hologram\n",
    "    shimmer = np.random.rand(hologram.shape[0], hologram.shape[1], 3) * 255\n",
    "    shimmer = shimmer.astype(np.uint8)\n",
    "\n",
    "    # Overlay the hologram with shimmering effect onto the image\n",
    "    result = cv2.addWeighted(image, 1 - alpha, hologram, alpha, 0)\n",
    "    result = cv2.addWeighted(result, 1, shimmer, 0.1, 0)\n",
    "\n",
    "    return result\n",
    "\n",
    "def map_image_to_rectangle(image, corners,newsize):\n",
    "    \"\"\"Maps the given image to the specified rectangle corners.\n",
    "\n",
    "    Args:\n",
    "        image (numpy.ndarray): The input image.\n",
    "        corners (numpy.ndarray): A 4x2 array of corner points in the following order:\n",
    "            top-left, top-right, bottom-right, bottom-left.\n",
    "\n",
    "    Returns:\n",
    "        numpy.ndarray: The warped image.\n",
    "    \"\"\"\n",
    "\n",
    "    # Define the target rectangle corners\n",
    "    width = image.shape[0]\n",
    "    height = image.shape[1]\n",
    "    dst_corners = np.array([[0, 0], [width, 0], [width, height], [0, height]], dtype=np.float32)\n",
    "\n",
    "    # Compute the perspective transformation matrix\n",
    "    M = cv2.getPerspectiveTransform(dst_corners,corners.astype(np.float32))\n",
    "\n",
    "    # Warp the image\n",
    "    warped_image = cv2.warpPerspective(image, M, (newsize[0],newsize[1]))\n",
    "\n",
    "    return warped_image\n"
   ]
  },
  {
   "cell_type": "code",
   "execution_count": 96,
   "metadata": {},
   "outputs": [],
   "source": [
    "# Load the image and the hologram image\n",
    "image = cv2.imread(os.path.relpath('../../Data/ROC2.jpeg'))\n",
    "hologram = cv2.imread(os.path.relpath('../../Data/PittPanthersLogo.png'), cv2.IMREAD_UNCHANGED)\n",
    "hologram=hologram[:,:,:-1]\n",
    "\n",
    "image = cv2.cvtColor(image,cv2.COLOR_BGR2RGB)\n",
    "hologram = cv2.cvtColor(hologram,cv2.COLOR_BGR2RGB)\n",
    "\n",
    "corners=np.array(((1500,1500),(1800,1500),(1800,1800),(1500,1800)))\n",
    "\n",
    "# Add the hologram effect\n",
    "result = add_hologram_effect(image, hologram,corners,alpha=.5)\n"
   ]
  },
  {
   "cell_type": "code",
   "execution_count": 98,
   "metadata": {},
   "outputs": [
    {
     "ename": "ModuleNotFoundError",
     "evalue": "No module named 'mediapipe'",
     "output_type": "error",
     "traceback": [
      "\u001b[0;31m---------------------------------------------------------------------------\u001b[0m",
      "\u001b[0;31mModuleNotFoundError\u001b[0m                       Traceback (most recent call last)",
      "Cell \u001b[0;32mIn[98], line 2\u001b[0m\n\u001b[1;32m      1\u001b[0m \u001b[38;5;28;01mimport\u001b[39;00m \u001b[38;5;21;01mcv2\u001b[39;00m\n\u001b[0;32m----> 2\u001b[0m \u001b[38;5;28;01mimport\u001b[39;00m \u001b[38;5;21;01mmediapipe\u001b[39;00m \u001b[38;5;28;01mas\u001b[39;00m \u001b[38;5;21;01mmp\u001b[39;00m\n\u001b[1;32m      3\u001b[0m \u001b[38;5;28;01mimport\u001b[39;00m \u001b[38;5;21;01mimutils\u001b[39;00m\n\u001b[1;32m      5\u001b[0m mpHands \u001b[38;5;241m=\u001b[39m mp\u001b[38;5;241m.\u001b[39msolutions\u001b[38;5;241m.\u001b[39mhands\n",
      "\u001b[0;31mModuleNotFoundError\u001b[0m: No module named 'mediapipe'"
     ]
    }
   ],
   "source": [
    "import cv2\n",
    "import mediapipe as mp\n",
    "import imutils\n",
    "\n",
    "mpHands = mp.solutions.hands\n",
    "hands = mpHands.Hands()\n",
    "mpDraw = mp.solutions.drawing_utils\n",
    "\n",
    "# Processing the input image\n",
    "def process_image(img):\n",
    "    # Converting the input to grayscale\n",
    "    gray_image = cv2.cvtColor(img, cv2.COLOR_BGR2RGB)\n",
    "    results = hands.process(gray_image)\n",
    "\n",
    "    # Returning the detected hands to calling function\n",
    "    return results\n",
    "\n",
    "# Drawing landmark connections\n",
    "def draw_hand_connections(img, results):\n",
    "    if results.multi_hand_landmarks:\n",
    "        for handLms in results.multi_hand_landmarks:\n",
    "            for id, lm in enumerate(handLms.landmark):\n",
    "                h, w, c = img.shape\n",
    "\n",
    "                # Finding the coordinates of each landmark\n",
    "                cx, cy = int(lm.x * w), int(lm.y * h)\n",
    "\n",
    "                # Printing each landmark ID and coordinates\n",
    "                # on the terminal\n",
    "                print(id, cx, cy)\n",
    "\n",
    "                # Creating a circle around each landmark\n",
    "                cv2.circle(img, (cx, cy), 10, (0, 255, 0),\n",
    "                           cv2.FILLED)\n",
    "                # Drawing the landmark connections\n",
    "                mpDraw.draw_landmarks(img, handLms,\n",
    "                                      mpHands.HAND_CONNECTIONS)\n",
    "\n",
    "        return img"
   ]
  },
  {
   "cell_type": "code",
   "execution_count": null,
   "metadata": {},
   "outputs": [],
   "source": [
    "\n",
    "cap = cv2.VideoCapture(0)\n",
    "\n",
    "while True:\n",
    "    # Taking the input\n",
    "    success, image = cap.read()\n",
    "    image = imutils.resize(image, width=500, height=500)\n",
    "    results = process_image(image)\n",
    "    draw_hand_connections(image, results)\n",
    "\n",
    "    # Displaying the output\n",
    "    cv2.imshow(\"Hand tracker\", image)\n",
    "\n",
    "    # Program terminates when q key is pressed\n",
    "    if cv2.waitKey(1) == ord('q'):\n",
    "        cap.release()\n",
    "        cv2.destroyAllWindows()"
   ]
  }
 ],
 "metadata": {
  "kernelspec": {
   "display_name": "base",
   "language": "python",
   "name": "python3"
  },
  "language_info": {
   "codemirror_mode": {
    "name": "ipython",
    "version": 3
   },
   "file_extension": ".py",
   "mimetype": "text/x-python",
   "name": "python",
   "nbconvert_exporter": "python",
   "pygments_lexer": "ipython3",
   "version": "3.11.7"
  }
 },
 "nbformat": 4,
 "nbformat_minor": 2
}
