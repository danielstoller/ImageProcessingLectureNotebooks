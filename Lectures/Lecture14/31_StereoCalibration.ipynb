{
 "cells": [
  {
   "cell_type": "code",
   "execution_count": 1,
   "metadata": {},
   "outputs": [],
   "source": [
    "import cv2\n",
    "import os\n",
    "import numpy as np\n",
    "import matplotlib.pyplot as plt\n",
    "\n",
    "import time\n",
    "\n",
    "num_images = 10\n",
    "pause_time = 2\n",
    "\n",
    "filename = os.path.relpath('../../CameraCalibration/Calibration3D');\n"
   ]
  },
  {
   "cell_type": "code",
   "execution_count": 2,
   "metadata": {},
   "outputs": [
    {
     "name": "stderr",
     "output_type": "stream",
     "text": [
      "[ WARN:0@1.443] global cap_gstreamer.cpp:1173 isPipelinePlaying OpenCV | GStreamer warning: GStreamer: pipeline have not been created\n",
      "[ WARN:0@3.085] global cap_gstreamer.cpp:1173 isPipelinePlaying OpenCV | GStreamer warning: GStreamer: pipeline have not been created\n"
     ]
    }
   ],
   "source": [
    "sourceL = cv2.VideoCapture(0)\n",
    "sourceR = cv2.VideoCapture(1)"
   ]
  },
  {
   "cell_type": "code",
   "execution_count": 6,
   "metadata": {},
   "outputs": [
    {
     "name": "stdout",
     "output_type": "stream",
     "text": [
      "0\n",
      "1\n",
      "2\n",
      "3\n",
      "4\n",
      "5\n",
      "6\n",
      "7\n",
      "8\n",
      "9\n"
     ]
    }
   ],
   "source": [
    "time.sleep(pause_time)\n",
    "\n",
    "for idx in range(0,num_images):\n",
    "    filename_localL = filename +'L'+ str(idx) + '.jpg'\n",
    "    filename_localR = filename +'R'+ str(idx) + '.jpg'\n",
    "    has_frame, cur_frameL = sourceL.read()\n",
    "    has_frame, cur_frameR = sourceR.read()\n",
    "    \n",
    "    cur_frameL = cv2.cvtColor(cur_frameL,cv2.COLOR_BGR2GRAY)\n",
    "    \n",
    "    cur_frameR = cv2.cvtColor(cur_frameR,cv2.COLOR_BGR2GRAY)\n",
    "\n",
    "    print(idx)\n",
    "\n",
    "    cv2.imwrite(filename_localL,cur_frameL)\n",
    "    cv2.imwrite(filename_localR,cur_frameR)\n",
    "    time.sleep(pause_time)"
   ]
  },
  {
   "cell_type": "code",
   "execution_count": 8,
   "metadata": {},
   "outputs": [],
   "source": [
    "import glob\n",
    "\n",
    "img_filenamesL = glob.glob(os.path.relpath(filename + \"L*.jpg\"))\n",
    "img_filenamesL=sorted(img_filenamesL)\n",
    "\n",
    "img_filenamesR = glob.glob(os.path.relpath(filename + \"R*.jpg\"))\n",
    "img_filenamesR=sorted(img_filenamesR)\n",
    "\n",
    "\n",
    "\n",
    "img_listL = [cv2.imread(file) for file in img_filenamesL]\n",
    "img_listL=[cv2.cvtColor(img_listL[idx],cv2.COLOR_BGR2GRAY) for idx in range(0,len(img_listL))]\n",
    "\n",
    "img_listR = [cv2.imread(file) for file in img_filenamesR]\n",
    "img_listR=[cv2.cvtColor(img_listR[idx],cv2.COLOR_BGR2GRAY) for idx in range(0,len(img_listR))]"
   ]
  },
  {
   "cell_type": "code",
   "execution_count": 10,
   "metadata": {},
   "outputs": [],
   "source": [
    "chessboard_size = (8, 6)\n",
    "\n",
    "square_size = 25  # mm\n",
    "\n",
    "\n",
    "criteria = (cv2.TERM_CRITERIA_EPS + cv2.TERM_CRITERIA_MAX_ITER, 30, 0.001)\n",
    "\n",
    "# prepare object points,\n",
    "objp = np.zeros((chessboard_size[0] * chessboard_size[1], 3), np.float32)\n",
    "objp[:, :2] = np.mgrid[0:chessboard_size[0], 0:chessboard_size[1]].T.reshape(-1, 2) * square_size\n",
    "\n",
    "# Arrays to store object points and image points from all the images.\n",
    "objpoints = []  # 3d point in real world space\n",
    "imgpoints1 = []  # 2d points in image plane for camera 1\n",
    "imgpoints2 = []  # 2d points in image plane for camera 2\n",
    "\n",
    "# Get image file names\n",
    "\n",
    "for idx in range(0,len(img_listL)):\n",
    "    img1 = img_listL[idx]\n",
    "    img2 = img_listR[idx]\n",
    "    \n",
    "    # Find the chess board corners\n",
    "    ret1, corners1 = cv2.findChessboardCorners(img1, chessboard_size, None)\n",
    "    ret2, corners2 = cv2.findChessboardCorners(img2, chessboard_size, None)\n",
    "\n",
    "    # If found, add object points, image points (after refining them)\n",
    "    if ret1 and ret2:\n",
    "        objpoints.append(objp)\n",
    "        corners1 = cv2.cornerSubPix(img1, corners1, (11, 11), (-1, -1), criteria)\n",
    "        imgpoints1.append(corners1)\n",
    "        corners2 = cv2.cornerSubPix(img2, corners2, (11, 11), (-1, -1), criteria)\n",
    "        imgpoints2.append(corners2)\n",
    "\n",
    "    # Calibrate cameras\n",
    "    ret1, mtx1, dist1, rvecs1, tvecs1 = cv2.calibrateCamera(objpoints, imgpoints1, img1.shape[::-1], None, None)\n",
    "    ret2, mtx2, dist2, rvecs2, tvecs2 = cv2.calibrateCamera(objpoints, imgpoints2, img2.shape[::-1], None, None)\n",
    "\n",
    "    # Stereo calibration\n",
    "    retval, cameraMatrix1, distCoeffs1, cameraMatrix2, distCoeffs2, R, T, E, F = cv2.stereoCalibrate(\n",
    "        objpoints, imgpoints1, imgpoints2, mtx1, dist1, mtx2, dist2, img1.shape[::-1], criteria )\n"
   ]
  },
  {
   "cell_type": "code",
   "execution_count": null,
   "metadata": {},
   "outputs": [],
   "source": []
  }
 ],
 "metadata": {
  "kernelspec": {
   "display_name": "base",
   "language": "python",
   "name": "python3"
  },
  "language_info": {
   "codemirror_mode": {
    "name": "ipython",
    "version": 3
   },
   "file_extension": ".py",
   "mimetype": "text/x-python",
   "name": "python",
   "nbconvert_exporter": "python",
   "pygments_lexer": "ipython3",
   "version": "3.12.4"
  }
 },
 "nbformat": 4,
 "nbformat_minor": 2
}
