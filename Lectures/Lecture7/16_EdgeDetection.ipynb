{
 "cells": [
  {
   "cell_type": "markdown",
   "metadata": {},
   "source": [
    "# Example of Edge Detection filters\n",
    "In this example, we will show how to implement edge detection on a video stream\n",
    "\n",
    "Python Notebooks are not the best for interactive figures like this and will often crash the kernel.  I find the \"restart kernel\" button is the best for breaking out of the loop.  As a long-term strategy, I would suggest using code like this as part of a Python script rather than inside a note boox\n"
   ]
  },
  {
   "cell_type": "code",
   "execution_count": 1,
   "metadata": {},
   "outputs": [],
   "source": [
    "import cv2\n",
    "import sys\n",
    "import numpy\n",
    "import matplotlib.pyplot as plt"
   ]
  },
  {
   "cell_type": "code",
   "execution_count": 2,
   "metadata": {},
   "outputs": [],
   "source": [
    "# We will use these ENUM codes for our different filters \n",
    "\n",
    "PREVIEW  = 0  # Preview Mode\n",
    "BLUR     = 1  # Blurring Filter\n",
    "SOBEL_X  = 2  # SOBEL Edge Detector in X direction\n",
    "SOBEL_Y  = 3  # SOBEL Edge Detector in Y direction\n",
    "SOBEL_XY = 4  # SOBEL Edge Detector\n",
    "CANNY    = 5  # Canny Edge Detector"
   ]
  },
  {
   "cell_type": "markdown",
   "metadata": {},
   "source": [
    "The picture will apply various filters tied to keys\n",
    "* Q/q/Escape --> quit\n",
    "* C/c  CANNY Filter\n",
    "* S/s  SOBEL Filter (in X&Y)\n",
    "* X/x  SOBEL Filter (in X only)\n",
    "* Y/y  SOBEL Filter (in Y only)\n",
    "* B/b  BLUR kernel\n",
    "* P/p  preview mode (no filtering)"
   ]
  },
  {
   "cell_type": "code",
   "execution_count": null,
   "metadata": {},
   "outputs": [
    {
     "name": "stderr",
     "output_type": "stream",
     "text": [
      "[ WARN:0@2.228] global /private/var/folders/sy/f16zz6x50xz3113nwtb9bvq00000gp/T/abs_f6tvh9615u/croot/opencv-suite_1691620375715/work/modules/videoio/src/cap_gstreamer.cpp (862) isPipelinePlaying OpenCV | GStreamer warning: GStreamer: pipeline have not been created\n",
      "2024-10-08 13:23:02.402 python[95357:1199524] IMKClient Stall detected, *please Report* your user scenario attaching a spindump (or sysdiagnose) that captures the problem - (imkxpc_bundleIdentifierWithReply:) block performed very slowly (1.13 secs).\n"
     ]
    }
   ],
   "source": [
    "image_filter = PREVIEW\n",
    "alive = True\n",
    "\n",
    "win_name = \"Camera Filters\"\n",
    "cv2.namedWindow(win_name, cv2.WINDOW_NORMAL)\n",
    "result = None\n",
    "source = cv2.VideoCapture(0)\n",
    "\n",
    "while alive:\n",
    "    has_frame, frame = source.read()\n",
    "    if not has_frame:\n",
    "        break\n",
    "\n",
    "    # Flip the horizontal of the video frame\n",
    "    frame = cv2.flip(frame, 1)\n",
    "    \n",
    "    # Depending on what mode we are in, filter the data\n",
    "    if image_filter == PREVIEW:\n",
    "        result = frame\n",
    "    elif image_filter == CANNY:\n",
    "        result = cv2.Canny(frame, 80, 150)\n",
    "    elif image_filter == SOBEL_X:\n",
    "        result = cv2.Sobel(frame, ddepth=cv2.CV_64F, dx=1, dy=0, ksize=5)\n",
    "    elif image_filter == SOBEL_Y:\n",
    "        result = cv2.Sobel(frame, ddepth=cv2.CV_64F, dx=0, dy=1, ksize=5)\n",
    "    elif image_filter == SOBEL_XY:\n",
    "        result = cv2.Sobel(frame, ddepth=cv2.CV_64F, dx=1, dy=1, ksize=5)\n",
    "    elif image_filter == BLUR:\n",
    "        result = cv2.blur(frame, (45,45))\n",
    "   \n",
    "    cv2.imshow(win_name, result)\n",
    "\n",
    "    # This catches any key strokes and updates the filter mode\n",
    "    key = cv2.waitKey(1)\n",
    "    if key == ord(\"Q\") or key == ord(\"q\") or key == 27:\n",
    "        alive = False\n",
    "    elif key == ord(\"C\") or key == ord(\"c\"):\n",
    "        image_filter = CANNY\n",
    "    elif key == ord(\"S\") or key == ord(\"s\"):\n",
    "        image_filter = SOBEL_XY\n",
    "    elif key == ord(\"X\") or key == ord(\"x\"):\n",
    "        image_filter = SOBEL_X\n",
    "    elif key == ord(\"Y\") or key == ord(\"y\"):\n",
    "        image_filter = SOBEL_Y\n",
    "    elif key == ord(\"B\") or key == ord(\"b\"):\n",
    "        image_filter = BLUR\n",
    "    elif key == ord(\"P\") or key == ord(\"p\"):\n",
    "        image_filter = PREVIEW\n"
   ]
  },
  {
   "cell_type": "code",
   "execution_count": null,
   "metadata": {},
   "outputs": [],
   "source": []
  }
 ],
 "metadata": {
  "kernelspec": {
   "display_name": "base",
   "language": "python",
   "name": "python3"
  },
  "language_info": {
   "codemirror_mode": {
    "name": "ipython",
    "version": 3
   },
   "file_extension": ".py",
   "mimetype": "text/x-python",
   "name": "python",
   "nbconvert_exporter": "python",
   "pygments_lexer": "ipython3",
   "version": "3.11.7"
  }
 },
 "nbformat": 4,
 "nbformat_minor": 2
}
