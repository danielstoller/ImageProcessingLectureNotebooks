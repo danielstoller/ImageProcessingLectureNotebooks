{
 "cells": [
  {
   "cell_type": "markdown",
   "metadata": {},
   "source": [
    "## OCR using Google's Tesseract OCR model\n",
    "\n",
    "Requirements:\n",
    "* Tesseract \n",
    "    https://tesseract-ocr.github.io/tessdoc/Installation.html\n",
    "* pip install pytesseract\n",
    "    https://pypi.org/project/pytesseract/\n"
   ]
  },
  {
   "cell_type": "code",
   "execution_count": 1,
   "metadata": {},
   "outputs": [],
   "source": [
    "import os\n",
    "import cv2\n",
    "import pytesseract\n",
    "\n",
    "pytesseract.pytesseract.tesseract_cmd = r'/usr/local/bin/tesseract'"
   ]
  },
  {
   "cell_type": "code",
   "execution_count": 2,
   "metadata": {},
   "outputs": [
    {
     "name": "stderr",
     "output_type": "stream",
     "text": [
      "[ WARN:0@3.905] global cap_gstreamer.cpp:1173 isPipelinePlaying OpenCV | GStreamer warning: GStreamer: pipeline have not been created\n"
     ]
    }
   ],
   "source": [
    "cap = cv2.VideoCapture(0)\n",
    "\n",
    "while True:\n",
    "    ret, frame = cap.read()\n",
    "    if not ret:\n",
    "        break\n",
    "\n",
    "    # Preprocessing (optional, but often improves accuracy)\n",
    "    gray = cv2.cvtColor(frame, cv2.COLOR_BGR2GRAY)\n",
    "    \n",
    "    # Add more preprocessing steps as needed (e.g., thresholding, noise removal)\n",
    "    \n",
    "    _,gray = cv2.threshold(gray, 0,255,cv2.THRESH_BINARY| cv2.THRESH_OTSU)\n",
    "    gray = cv2.medianBlur(gray, 3)\n",
    "    \n",
    "    # Perform OCR\n",
    "    data = pytesseract.image_to_data(gray,output_type=pytesseract.Output.DICT)\n",
    "    \n",
    "    if(not data.__class__==str):\n",
    "\n",
    "        for i in range(len(data[\"text\"])):\n",
    "            if data[\"text\"][i] != \"\":\n",
    "                x=data['left'][i]\n",
    "                y=data['top'][i]\n",
    "                w=data['width'][i]\n",
    "                h=data['height'][i]\n",
    "                text=data['text'][i]\n",
    "\n",
    "                frame = cv2.rectangle(frame, (x, y), (x + w, y + h), (36,255,12), 1)\n",
    "                cv2.putText(frame, text, (x, y-10), cv2.FONT_HERSHEY_SIMPLEX, 0.9, (36,255,12), 2)\n",
    "\n",
    "\n",
    "    # Display results (optional)\n",
    "    cv2.imshow('frame', frame)\n",
    "   \n",
    "\n",
    "    if cv2.waitKey(1) == ord('q'):\n",
    "        break\n",
    "\n",
    "cap.release()\n",
    "cv2.destroyAllWindows()"
   ]
  },
  {
   "cell_type": "code",
   "execution_count": null,
   "metadata": {},
   "outputs": [],
   "source": []
  },
  {
   "cell_type": "code",
   "execution_count": null,
   "metadata": {},
   "outputs": [],
   "source": []
  }
 ],
 "metadata": {
  "kernelspec": {
   "display_name": "base",
   "language": "python",
   "name": "python3"
  },
  "language_info": {
   "codemirror_mode": {
    "name": "ipython",
    "version": 3
   },
   "file_extension": ".py",
   "mimetype": "text/x-python",
   "name": "python",
   "nbconvert_exporter": "python",
   "pygments_lexer": "ipython3",
   "version": "3.12.4"
  }
 },
 "nbformat": 4,
 "nbformat_minor": 2
}
