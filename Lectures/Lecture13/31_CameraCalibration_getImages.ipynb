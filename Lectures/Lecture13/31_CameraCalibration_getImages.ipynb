{
 "cells": [
  {
   "cell_type": "markdown",
   "metadata": {},
   "source": [
    "# Camera Calibration Demo\n",
    "This example uses the web cam to grab a set of images of a \n",
    "checkerboard.  The images are then processed to calibrate the web camera\n",
    "\n",
    "Results (and images) are saved.\n",
    "\n"
   ]
  },
  {
   "cell_type": "code",
   "execution_count": 1,
   "metadata": {},
   "outputs": [],
   "source": [
    "import cv2\n",
    "import os\n",
    "import numpy as np\n",
    "import matplotlib.pyplot as plt\n",
    "import time\n",
    "\n",
    "num_images = 10\n",
    "pause_time = 2\n",
    "\n",
    "filename = os.path.relpath('../../CameraCalibration/Calibration');"
   ]
  },
  {
   "cell_type": "code",
   "execution_count": 2,
   "metadata": {},
   "outputs": [
    {
     "name": "stderr",
     "output_type": "stream",
     "text": [
      "[ WARN:0@0.750] global /private/var/folders/sy/f16zz6x50xz3113nwtb9bvq00000gp/T/abs_f6tvh9615u/croot/opencv-suite_1691620375715/work/modules/videoio/src/cap_gstreamer.cpp (862) isPipelinePlaying OpenCV | GStreamer warning: GStreamer: pipeline have not been created\n"
     ]
    }
   ],
   "source": [
    "source = cv2.VideoCapture(0)\n",
    "has_frame, cur_frame = source.read()"
   ]
  },
  {
   "cell_type": "code",
   "execution_count": 3,
   "metadata": {},
   "outputs": [
    {
     "name": "stderr",
     "output_type": "stream",
     "text": [
      "[ WARN:0@3.305] global /private/var/folders/sy/f16zz6x50xz3113nwtb9bvq00000gp/T/abs_f6tvh9615u/croot/opencv-suite_1691620375715/work/modules/videoio/src/cap_gstreamer.cpp (862) isPipelinePlaying OpenCV | GStreamer warning: GStreamer: pipeline have not been created\n"
     ]
    },
    {
     "name": "stdout",
     "output_type": "stream",
     "text": [
      "../../CameraCalibration/Calibration0.jpg\n"
     ]
    },
    {
     "name": "stderr",
     "output_type": "stream",
     "text": [
      "2024-10-14 18:35:09.032 python[27596:3144189] IMKClient Stall detected, *please Report* your user scenario attaching a spindump (or sysdiagnose) that captures the problem - (imkxpc_bundleIdentifierWithReply:) block performed very slowly (2.02 secs).\n"
     ]
    },
    {
     "name": "stdout",
     "output_type": "stream",
     "text": [
      "../../CameraCalibration/Calibration1.jpg\n",
      "../../CameraCalibration/Calibration2.jpg\n",
      "../../CameraCalibration/Calibration3.jpg\n",
      "../../CameraCalibration/Calibration4.jpg\n",
      "../../CameraCalibration/Calibration5.jpg\n",
      "../../CameraCalibration/Calibration6.jpg\n",
      "../../CameraCalibration/Calibration7.jpg\n",
      "../../CameraCalibration/Calibration8.jpg\n",
      "../../CameraCalibration/Calibration9.jpg\n"
     ]
    }
   ],
   "source": [
    "alive = True\n",
    "\n",
    "win_name = \"Motion Correction\"\n",
    "cv2.namedWindow(win_name, cv2.WINDOW_NORMAL)\n",
    "source = cv2.VideoCapture(0)\n",
    "\n",
    "\n",
    "time.sleep(pause_time)\n",
    "\n",
    "for idx in range(0,num_images):\n",
    "    filename_local = filename + str(idx) + '.jpg'\n",
    "    print(filename_local)\n",
    "    has_frame, cur_frame = source.read()\n",
    "    cur_frame = cv2.flip(cur_frame, 1)\n",
    "    cur_frame = cv2.cvtColor(cur_frame,cv2.COLOR_BGR2GRAY)\n",
    "\n",
    "    cv2.imshow(win_name,cur_frame)\n",
    "    cv2.imwrite(filename_local,cur_frame)\n",
    "    key = cv2.waitKey(1)\n",
    "    time.sleep(pause_time)\n",
    "\n",
    "cv2.destroyWindow(win_name)\n",
    "source.release()"
   ]
  },
  {
   "cell_type": "markdown",
   "metadata": {},
   "source": [
    "Now, load the data back in and run the calibration code"
   ]
  },
  {
   "cell_type": "code",
   "execution_count": 3,
   "metadata": {},
   "outputs": [],
   "source": [
    "import glob\n",
    "\n",
    "img_filenames = glob.glob(os.path.relpath(filename + \"*.jpg\"))\n",
    "img_filenames=sorted(img_filenames)\n",
    "\n",
    "img_list = [cv2.imread(file) for file in img_filenames]\n",
    "\n",
    "img_list=[cv2.cvtColor(img_list[idx],cv2.COLOR_BGR2GRAY) for idx in range(0,len(img_list))]\n"
   ]
  },
  {
   "cell_type": "code",
   "execution_count": 4,
   "metadata": {},
   "outputs": [
    {
     "name": "stdout",
     "output_type": "stream",
     "text": [
      "Camera matrix : \n",
      "\n",
      "[[1.05113819e+03 0.00000000e+00 7.35663076e+02]\n",
      " [0.00000000e+00 1.03757353e+03 3.38242702e+02]\n",
      " [0.00000000e+00 0.00000000e+00 1.00000000e+00]]\n",
      "dist : \n",
      "\n",
      "[[ 3.01137568e-02  5.28221992e-01  4.14826599e-04  4.26752845e-02\n",
      "  -9.93206370e-01]]\n",
      "rvecs : \n",
      "\n",
      "(array([[ 0.06830113],\n",
      "       [-0.35170619],\n",
      "       [ 0.17207331]]), array([[ 0.01909188],\n",
      "       [ 0.34489394],\n",
      "       [-0.09420104]]), array([[ 0.00364926],\n",
      "       [ 0.24310462],\n",
      "       [-0.04676415]]), array([[-0.00545151],\n",
      "       [-0.09183089],\n",
      "       [ 0.05819735]]), array([[-0.0209604 ],\n",
      "       [-0.17700663],\n",
      "       [ 0.06653545]]), array([[-0.05649507],\n",
      "       [-0.63349374],\n",
      "       [ 0.20310309]]), array([[ 0.01935875],\n",
      "       [-0.15861669],\n",
      "       [ 0.04534504]]), array([[-0.04981367],\n",
      "       [-0.086174  ],\n",
      "       [ 0.05887108]]), array([[ 0.02147382],\n",
      "       [ 0.44408708],\n",
      "       [-0.06901087]]), array([[-0.00687212],\n",
      "       [ 0.47128241],\n",
      "       [-0.0565995 ]]))\n",
      "tvecs : \n",
      "\n",
      "(array([[-17.89920333],\n",
      "       [ -2.72779682],\n",
      "       [ 35.38338893]]), array([[-3.07138679],\n",
      "       [-2.88369134],\n",
      "       [35.86491278]]), array([[-3.5303324 ],\n",
      "       [-3.06823834],\n",
      "       [35.81608984]]), array([[-9.09162164],\n",
      "       [-5.25351175],\n",
      "       [29.71699053]]), array([[-8.90542622],\n",
      "       [-5.28235992],\n",
      "       [29.51422541]]), array([[-14.51965775],\n",
      "       [ -5.79028984],\n",
      "       [ 28.1170516 ]]), array([[-8.09824817],\n",
      "       [-1.33264352],\n",
      "       [34.26058492]]), array([[-8.04299143],\n",
      "       [-1.53737476],\n",
      "       [35.78560626]]), array([[-1.9186229 ],\n",
      "       [-4.07280376],\n",
      "       [30.17540501]]), array([[-1.0528589 ],\n",
      "       [-4.06680749],\n",
      "       [30.42496034]]))\n"
     ]
    }
   ],
   "source": [
    "img_corners=[]\n",
    "obj_corners=[]\n",
    "\n",
    "CHECKERBOARD = (8,6)  # The size is number of corners, \n",
    "# which is one less than the number of squares\n",
    "\n",
    "criteria = (cv2.TERM_CRITERIA_EPS + cv2.TERM_CRITERIA_MAX_ITER, 30, 0.001)\n",
    "\n",
    "# Defining the world coordinates for 3D points\n",
    "objp = np.zeros((1, CHECKERBOARD[0] * CHECKERBOARD[1], 3), np.float32)\n",
    "objp[0,:,:2] = np.mgrid[0:CHECKERBOARD[0], 0:CHECKERBOARD[1]].T.reshape(-1, 2)\n",
    "\n",
    "for idx in range(0,len(img_list)):\n",
    "    retval, corners = cv2.findChessboardCorners(img_list[idx],patternSize =CHECKERBOARD)\n",
    "    if(retval):\n",
    "        corners=cv2.cornerSubPix(img_list[idx], corners, (11,11),(-1,-1), criteria)\n",
    "        img_corners.append(corners)\n",
    "        obj_corners.append(objp)\n",
    "        img_list[idx] = cv2.drawChessboardCorners(img_list[idx], CHECKERBOARD, corners, retval)\n",
    "\n",
    "ret, mtx, dist, rvecs, tvecs = cv2.calibrateCamera(obj_corners, img_corners, img_list[0].shape[::-1], None, None)\n",
    " \n",
    "print(\"Camera matrix : \\n\")\n",
    "print(mtx)\n",
    "print(\"distortion parameters : \\n\")\n",
    "print(dist)\n",
    "\n",
    "# Save in NumPy Zip format\n",
    "np.savez(filename +\"_camera.npz\",mtx=mtx,dist=dist)\n"
   ]
  }
 ],
 "metadata": {
  "kernelspec": {
   "display_name": "base",
   "language": "python",
   "name": "python3"
  },
  "language_info": {
   "codemirror_mode": {
    "name": "ipython",
    "version": 3
   },
   "file_extension": ".py",
   "mimetype": "text/x-python",
   "name": "python",
   "nbconvert_exporter": "python",
   "pygments_lexer": "ipython3",
   "version": "3.11.7"
  }
 },
 "nbformat": 4,
 "nbformat_minor": 2
}
